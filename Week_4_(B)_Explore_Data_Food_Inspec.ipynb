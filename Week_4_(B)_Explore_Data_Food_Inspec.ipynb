{
  "cells": [
    {
      "cell_type": "markdown",
      "metadata": {
        "id": "view-in-github",
        "colab_type": "text"
      },
      "source": [
        "<a href=\"https://colab.research.google.com/github/nkumanning/Spring-Course-24/blob/main/Week_4_(B)_Explore_Data_Food_Inspec.ipynb\" target=\"_parent\"><img src=\"https://colab.research.google.com/assets/colab-badge.svg\" alt=\"Open In Colab\"/></a>"
      ]
    },
    {
      "cell_type": "markdown",
      "metadata": {
        "id": "EySIWLb4ywn7"
      },
      "source": [
        "Libraries have pre-defined code for other functions that are not included in basic Python. Once a library has been imported, any of its functions can be used throughout the entire notebook."
      ]
    },
    {
      "cell_type": "code",
      "execution_count": null,
      "metadata": {
        "id": "pDcE8MCFywn7"
      },
      "outputs": [],
      "source": [
        "#import libraries\n",
        "import pandas as pd\n",
        "import numpy as np"
      ]
    },
    {
      "cell_type": "code",
      "source": [
        "# pip install xlsxwriter\n"
      ],
      "metadata": {
        "id": "nc_8GLMg-sJY"
      },
      "execution_count": null,
      "outputs": []
    },
    {
      "cell_type": "markdown",
      "metadata": {
        "id": "2a56WGUyywn8"
      },
      "source": [
        "## Load data"
      ]
    },
    {
      "cell_type": "markdown",
      "metadata": {
        "id": "jXV7Wi3Aywn8"
      },
      "source": [
        "### csv files\n",
        "\n",
        "Stands for \"comma separated values\"; it is a plain text file where each value is separated by some delimiter (usually commas but can be tabs, semicolons, spaces, etc.)"
      ]
    },
    {
      "cell_type": "code",
      "execution_count": null,
      "metadata": {
        "id": "e474BQv4ywn8"
      },
      "outputs": [],
      "source": [
        "#load csv file data with headers\n",
        "\n",
        "location = \"/content/Food_Inspec.xlsx\"\n",
        "df = pd.read_excel(location)"
      ]
    },
    {
      "cell_type": "code",
      "execution_count": null,
      "metadata": {
        "scrolled": true,
        "id": "hfMlzXTuywn9"
      },
      "outputs": [],
      "source": [
        "df.head()\n",
        "#df.head?"
      ]
    },
    {
      "cell_type": "code",
      "execution_count": null,
      "metadata": {
        "scrolled": false,
        "id": "OIejjBbGywn9"
      },
      "outputs": [],
      "source": [
        "df.tail(3)"
      ]
    },
    {
      "cell_type": "code",
      "execution_count": null,
      "metadata": {
        "id": "WZeuEYM_ywn9"
      },
      "outputs": [],
      "source": [
        "#load data without headers\n",
        "\n",
        "location2 = \"/content/gradedata.csv\"\n",
        "df_nohead = pd.read_csv(location2, header = None) #try w/o header=None\n",
        "df_nohead.head()"
      ]
    },
    {
      "cell_type": "code",
      "execution_count": null,
      "metadata": {
        "id": "WyHLcG72ywn9"
      },
      "outputs": [],
      "source": [
        "#add headers during data load\n",
        "\n",
        "df_during = pd.read_csv(location2, names=['fname', 'lname', 'gender', 'age', 'exercise', 'hours', 'grade', 'address'])\n",
        "df_during.head()"
      ]
    },
    {
      "cell_type": "code",
      "execution_count": null,
      "metadata": {
        "scrolled": true,
        "id": "1I8wtukgywn9"
      },
      "outputs": [],
      "source": [
        "#add headers after data load\n",
        "\n",
        "df_nohead.columns = ['fname', 'lname', 'gender', 'age', 'exercise', 'hours', 'grade', 'address']\n",
        "df_nohead.head()"
      ]
    },
    {
      "cell_type": "code",
      "execution_count": null,
      "metadata": {
        "id": "xVTCl388ywn-"
      },
      "outputs": [],
      "source": [
        "#create data\n",
        "\n",
        "names = ['Bob','Jessica','Mary','John','Mel']\n",
        "grades = [76,95,77,78,99]\n",
        "GradeList = list(zip(names,grades))"
      ]
    },
    {
      "cell_type": "code",
      "execution_count": null,
      "metadata": {
        "id": "P20vurs5ywn-"
      },
      "outputs": [],
      "source": [
        "#export csv files\n",
        "\n",
        "df = pd.DataFrame(data = GradeList, columns=['Names','Grades'])\n",
        "df.to_csv('studentgrades.csv',index=False,header=False)"
      ]
    },
    {
      "cell_type": "code",
      "execution_count": null,
      "metadata": {
        "id": "gLxk2ru-ywn_"
      },
      "outputs": [],
      "source": [
        "import pandas as pd\n",
        "\n",
        "names = ['Bob','Jessica','Mary','John','Mel']\n",
        "grades = [76,95,77,78,99]\n",
        "bsdegrees = [1,1,0,0,1]\n",
        "msdegrees = [2,1,0,0,0]\n",
        "phddegrees = [0,1,0,0,0]\n",
        "\n",
        "Degrees = zip(names,grades,bsdegrees,msdegrees,phddegrees)\n",
        "column=['Names','Grades','BS','MS','PhD']\n",
        "df = pd.DataFrame(data = Degrees, columns=column)\n",
        "df"
      ]
    },
    {
      "cell_type": "markdown",
      "metadata": {
        "id": "-VYcsXSZywn_"
      },
      "source": [
        "### Excel files"
      ]
    },
    {
      "cell_type": "markdown",
      "metadata": {
        "id": "6jHlgiK1ywoB"
      },
      "source": [
        "### Exploratory Analysis"
      ]
    },
    {
      "cell_type": "code",
      "execution_count": null,
      "metadata": {
        "id": "XccEmxgnywoB"
      },
      "outputs": [],
      "source": [
        "#load gradedata.csv file\n",
        "\n",
        "location = \"/content/gradedata.csv\"\n",
        "df = pd.read_csv(location)\n",
        "\n",
        "df.head()"
      ]
    },
    {
      "cell_type": "code",
      "execution_count": null,
      "metadata": {
        "id": "QuOWVXIJywoB"
      },
      "outputs": [],
      "source": [
        "#show the column names in the dataset\n",
        "df.columns\n",
        "#or print(df.columns)"
      ]
    },
    {
      "cell_type": "code",
      "execution_count": null,
      "metadata": {
        "id": "6sUybPJZywoB"
      },
      "outputs": [],
      "source": [
        "#show the data type of each column\n",
        "df.dtypes"
      ]
    },
    {
      "cell_type": "code",
      "execution_count": null,
      "metadata": {
        "id": "uwYdogfcywoB"
      },
      "outputs": [],
      "source": [
        "#number of non-NA values\n",
        "#len(df) would count rows including NA values\n",
        "df.count()"
      ]
    },
    {
      "cell_type": "code",
      "execution_count": null,
      "metadata": {
        "id": "1Ix6qExrywoB"
      },
      "outputs": [],
      "source": [
        "df['hours'].max()"
      ]
    },
    {
      "cell_type": "code",
      "execution_count": null,
      "metadata": {
        "id": "LynyvQMnywoC"
      },
      "outputs": [],
      "source": [
        "df['hours'].min()"
      ]
    },
    {
      "cell_type": "code",
      "execution_count": null,
      "metadata": {
        "scrolled": true,
        "id": "3QA5n3nsywoC"
      },
      "outputs": [],
      "source": [
        "df['hours'].sum()"
      ]
    },
    {
      "cell_type": "code",
      "execution_count": null,
      "metadata": {
        "id": "tVmf8SNgywoC"
      },
      "outputs": [],
      "source": [
        "df['hours'].mean()"
      ]
    },
    {
      "cell_type": "code",
      "execution_count": null,
      "metadata": {
        "id": "XDXEhndaywoC"
      },
      "outputs": [],
      "source": [
        "df['hours'].median()"
      ]
    },
    {
      "cell_type": "code",
      "execution_count": null,
      "metadata": {
        "id": "Fdqfy998ywoC"
      },
      "outputs": [],
      "source": [
        "df['hours'].mode()"
      ]
    },
    {
      "cell_type": "code",
      "execution_count": null,
      "metadata": {
        "id": "hdwCskMyywoC"
      },
      "outputs": [],
      "source": [
        "df['hours'].value_counts()"
      ]
    },
    {
      "cell_type": "code",
      "execution_count": null,
      "metadata": {
        "id": "D5hA2xn7ywoD"
      },
      "outputs": [],
      "source": [
        "#descriptive statistics\n",
        "df.describe()"
      ]
    },
    {
      "cell_type": "code",
      "execution_count": null,
      "metadata": {
        "id": "hbB3GdBWywoD"
      },
      "outputs": [],
      "source": [
        "#doesn't do anything on its own\n",
        "df.groupby('gender')"
      ]
    },
    {
      "cell_type": "code",
      "execution_count": null,
      "metadata": {
        "id": "9RkzNie2ywoD"
      },
      "outputs": [],
      "source": [
        "#add a stats or math function to it\n",
        "df['hours'].groupby(df['gender']).mean()\n",
        "\n",
        "#mean of multiple columns\n",
        "#df[['hours', 'exercise']].groupby(df['gender']).mean()"
      ]
    },
    {
      "cell_type": "code",
      "execution_count": null,
      "metadata": {
        "id": "1UlobBRkywoD"
      },
      "outputs": [],
      "source": [
        "#use two columns to groupby\n",
        "df.groupby(['gender', 'age']).mean()"
      ]
    },
    {
      "cell_type": "code",
      "execution_count": null,
      "metadata": {
        "id": "NiMzUHMNywoE"
      },
      "outputs": [],
      "source": [
        "#pivot table default function is mean\n",
        "pd.pivot_table(df, index=['gender'])"
      ]
    },
    {
      "cell_type": "code",
      "execution_count": null,
      "metadata": {
        "id": "RRmeZk_0ywoE"
      },
      "outputs": [],
      "source": [
        "pd.pivot_table(df, values=['hours'], index=['gender'])"
      ]
    },
    {
      "cell_type": "code",
      "execution_count": null,
      "metadata": {
        "id": "4w4Od0ahywoF"
      },
      "outputs": [],
      "source": [
        "#unique values in a column\n",
        "df['age'].unique()"
      ]
    },
    {
      "cell_type": "code",
      "execution_count": null,
      "metadata": {
        "scrolled": true,
        "id": "AdyEC2e6ywoF"
      },
      "outputs": [],
      "source": [
        "#find missing values\n",
        "filename = \"/content/gradedata.csv\"\n",
        "df_missing = pd.read_csv(filename)\n",
        "\n",
        "#df.head()"
      ]
    },
    {
      "cell_type": "code",
      "execution_count": null,
      "metadata": {
        "id": "XcKgWgIUywoF"
      },
      "outputs": [],
      "source": [
        "#total missing values\n",
        "df_missing.isnull().sum()"
      ]
    },
    {
      "cell_type": "code",
      "execution_count": null,
      "metadata": {
        "scrolled": false,
        "id": "w5E6Yv_BywoF"
      },
      "outputs": [],
      "source": [
        "#show rows with missing values\n",
        "missing = df_missing['exercise'].isnull()\n",
        "#missing will only show True/False values\n",
        "df_missing.loc[missing]"
      ]
    },
    {
      "cell_type": "markdown",
      "metadata": {
        "id": "fZJoKY3nywoG"
      },
      "source": [
        "## Finding duplicate rows"
      ]
    },
    {
      "cell_type": "code",
      "execution_count": null,
      "metadata": {
        "id": "yzME11oWywoG"
      },
      "outputs": [],
      "source": [
        "names = ['Jessica','John','Bob','Jessica','Mary','John','Mel','Mel']\n",
        "grades = [95,78,76,95,77,78,99,100]\n",
        "GradeList = list(zip(names,grades))\n",
        "df = pd.DataFrame(data = GradeList, columns=['Names', 'Grades'])\n",
        "df"
      ]
    },
    {
      "cell_type": "code",
      "execution_count": null,
      "metadata": {
        "id": "WCHo-tCGywoG"
      },
      "outputs": [],
      "source": [
        "#boolean values for if there's another row with the exact values in each column\n",
        "dupe = df.duplicated()\n",
        "#duplicate of Jessica, 95; John, 78\n",
        "#returns false on first instance of duplicate row"
      ]
    },
    {
      "cell_type": "code",
      "execution_count": null,
      "metadata": {
        "id": "dwxiS1vrywoG"
      },
      "outputs": [],
      "source": [
        "df.loc[dupe]"
      ]
    },
    {
      "cell_type": "markdown",
      "metadata": {
        "id": "OYPQ4IlsywoG"
      },
      "source": [
        "### Your Turn\n",
        "1) Load the dataset datasets/dupedata.csv. We figure people with the same\n",
        "address are duplicates. Can you drop the duplicated rows while keeping\n",
        "the first?"
      ]
    },
    {
      "cell_type": "markdown",
      "metadata": {
        "id": "RJqIcIRjywoG"
      },
      "source": [
        "## Choosing Rows"
      ]
    },
    {
      "cell_type": "code",
      "execution_count": null,
      "metadata": {
        "id": "sA4FFFWzywoG"
      },
      "outputs": [],
      "source": [
        "colA = [10, 20, 40, 50]\n",
        "colB = ['no', 'yes', 'yes', 'no']\n",
        "\n",
        "A_B = list(zip(colA, colB))\n",
        "\n",
        "df_A = pd.DataFrame(data=A_B, columns=['A', 'B'])\n",
        "df_A"
      ]
    },
    {
      "cell_type": "code",
      "execution_count": null,
      "metadata": {
        "scrolled": true,
        "id": "Mqe6Oa9uywoH"
      },
      "outputs": [],
      "source": [
        "index = ['a', 'b', 'c', 'd']\n",
        "colA = [10, 20, 40, 50]\n",
        "colB = ['no', 'yes', 'yes', 'no']\n",
        "\n",
        "df_B = pd.DataFrame(data=A_B, columns=['A', 'B'], index=index)\n",
        "\n",
        "df_B"
      ]
    },
    {
      "cell_type": "code",
      "execution_count": null,
      "metadata": {
        "id": "efaqwWzPywoH"
      },
      "outputs": [],
      "source": [
        "#loc: label based indexing\n",
        "df_A.loc[0]"
      ]
    },
    {
      "cell_type": "code",
      "execution_count": null,
      "metadata": {
        "id": "zTP5_Yd-ywoH"
      },
      "outputs": [],
      "source": [
        "#iloc: select row by index(position) number\n",
        "df_A.iloc[0]"
      ]
    },
    {
      "cell_type": "code",
      "execution_count": null,
      "metadata": {
        "scrolled": true,
        "id": "KG7HfbvuywoH"
      },
      "outputs": [],
      "source": [
        "#loc: label based indexing\n",
        "df_B.loc['b']"
      ]
    },
    {
      "cell_type": "code",
      "execution_count": null,
      "metadata": {
        "id": "IolopYveywoI"
      },
      "outputs": [],
      "source": [
        "df_B.iloc[1]"
      ]
    },
    {
      "cell_type": "code",
      "execution_count": null,
      "metadata": {
        "id": "YLKLsu27ywoI"
      },
      "outputs": [],
      "source": [
        "#let's see how it gets tricky\n",
        "df_C = df_A.copy()\n",
        "df_C"
      ]
    },
    {
      "cell_type": "code",
      "execution_count": null,
      "metadata": {
        "id": "BmloaF_kywoI"
      },
      "outputs": [],
      "source": [
        "index = [2,1,0,3]\n",
        "colA = [10, 20, 40, 50]\n",
        "colB = ['no', 'yes', 'yes', 'no']\n",
        "\n",
        "df_D = pd.DataFrame(data=A_B, columns=['A', 'B'], index=index)\n",
        "df_D"
      ]
    },
    {
      "cell_type": "code",
      "execution_count": null,
      "metadata": {
        "id": "ZWYkKFGEywoI"
      },
      "outputs": [],
      "source": [
        "#works like python slicing; give me index 0 through the index before 3\n",
        "df_C.iloc[0:3]"
      ]
    },
    {
      "cell_type": "code",
      "execution_count": null,
      "metadata": {
        "id": "XobMmrL6ywoI"
      },
      "outputs": [],
      "source": [
        "#give me the index label '0' and everything in between and include the label '3'\n",
        "df_C.loc[0:3]"
      ]
    },
    {
      "cell_type": "code",
      "execution_count": null,
      "metadata": {
        "id": "_KDchqIXywoI"
      },
      "outputs": [],
      "source": [
        "#gave index position 0 through the index position before 3\n",
        "df_D.iloc[0:3]"
      ]
    },
    {
      "cell_type": "code",
      "execution_count": null,
      "metadata": {
        "id": "Uil9ndicywoJ"
      },
      "outputs": [],
      "source": [
        "#gave the label '0' and all the rows that are in between and ending with the row with label '3'\n",
        "df_D.loc[0:3]"
      ]
    },
    {
      "cell_type": "markdown",
      "metadata": {
        "id": "Crc9hKmBywoK"
      },
      "source": [
        "## Create random data"
      ]
    },
    {
      "cell_type": "code",
      "execution_count": null,
      "metadata": {
        "scrolled": true,
        "id": "yrB88XAqywoK"
      },
      "outputs": [],
      "source": [
        "from numpy import random\n",
        "\n",
        "names = ['Bob','Jessica','Mary','John','Mel']\n",
        "\n",
        "random.seed(500)\n",
        "\n",
        "random_names = [names[random.randint(low=0,high=len(names))]\n",
        " \t\t\t\tfor i in range(1000)]\n",
        "\n",
        "births = [random.randint(low=0,high=1000)\n",
        " \t\t  for i in range(1000)]\n",
        "\n",
        "BabyDataSet = list(zip(random_names,births))\n",
        "df = pd.DataFrame(data = BabyDataSet, columns=['Names', 'Births'])\n",
        "\n",
        "df.head()"
      ]
    },
    {
      "cell_type": "markdown",
      "metadata": {
        "id": "ubNBn8JdywoL"
      },
      "source": [
        "### Your Turn\n",
        "1) Create a dataframe called parkingtickets with 250 rows containing a name\n",
        "and a number between 1 and 25."
      ]
    }
  ],
  "metadata": {
    "kernelspec": {
      "display_name": "Python 3",
      "language": "python",
      "name": "python3"
    },
    "language_info": {
      "codemirror_mode": {
        "name": "ipython",
        "version": 3
      },
      "file_extension": ".py",
      "mimetype": "text/x-python",
      "name": "python",
      "nbconvert_exporter": "python",
      "pygments_lexer": "ipython3",
      "version": "3.6.8"
    },
    "toc": {
      "base_numbering": 1,
      "nav_menu": {},
      "number_sections": false,
      "sideBar": false,
      "skip_h1_title": false,
      "title_cell": "Table of Contents",
      "title_sidebar": "Contents",
      "toc_cell": false,
      "toc_position": {},
      "toc_section_display": false,
      "toc_window_display": false
    },
    "colab": {
      "provenance": [],
      "include_colab_link": true
    }
  },
  "nbformat": 4,
  "nbformat_minor": 0
}