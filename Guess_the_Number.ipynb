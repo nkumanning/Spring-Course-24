{
  "nbformat": 4,
  "nbformat_minor": 0,
  "metadata": {
    "colab": {
      "provenance": []
    },
    "kernelspec": {
      "name": "python3",
      "display_name": "Python 3"
    },
    "language_info": {
      "name": "python"
    }
  },
  "cells": [
    {
      "cell_type": "code",
      "execution_count": 1,
      "metadata": {
        "id": "DLV0SvMYggsi"
      },
      "outputs": [],
      "source": [
        "import random as r"
      ]
    },
    {
      "cell_type": "code",
      "source": [
        "def gn():\n",
        "  chosen_number = r.randint(0, 10)\n",
        "  print(\"Let's play a game!!\")\n",
        "  while True:\n",
        "    try:\n",
        "      user_number = int(input('Guess the number '))\n",
        "    except ValueError:\n",
        "      print(\"That's not a number, please try again!\")\n",
        "\n",
        "    if chosen_number == user_number:\n",
        "      print('Yaps! Your number is our secret number!')\n",
        "      break\n",
        "    elif chosen_number > user_number:\n",
        "      print('Please enter a higher number!')\n",
        "    else:\n",
        "      print('Please enter a lower number!')\n",
        "\n",
        "\n"
      ],
      "metadata": {
        "id": "sz5TlzgggziT"
      },
      "execution_count": 4,
      "outputs": []
    },
    {
      "cell_type": "code",
      "source": [
        "gn()"
      ],
      "metadata": {
        "colab": {
          "base_uri": "https://localhost:8080/"
        },
        "id": "C5jvHsrbiq6_",
        "outputId": "a9009a57-23b7-4465-d7ec-0c634f76a18e"
      },
      "execution_count": 5,
      "outputs": [
        {
          "output_type": "stream",
          "name": "stdout",
          "text": [
            "Let's play a game!!\n",
            "Guess the number 1\n",
            "Please enter a higher number!\n",
            "Guess the number 6\n",
            "Please enter a higher number!\n",
            "Guess the number 9\n",
            "Please enter a lower number!\n",
            "Guess the number 8\n",
            "Yaps! Your number is our secret number!\n"
          ]
        }
      ]
    }
  ]
}